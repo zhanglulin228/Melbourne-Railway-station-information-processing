{
 "cells": [
  {
   "cell_type": "code",
   "execution_count": 7,
   "id": "7b86b5cb",
   "metadata": {},
   "outputs": [],
   "source": [
    "import pandas as pd\n",
    "from math import radians, cos, sin, asin, sqrt  \n"
   ]
  },
  {
   "cell_type": "code",
   "execution_count": 2,
   "id": "10fb04d5",
   "metadata": {},
   "outputs": [],
   "source": [
    "stops = pd.read_csv('stops.txt')"
   ]
  },
  {
   "cell_type": "code",
   "execution_count": 3,
   "id": "d8f3d8f6",
   "metadata": {},
   "outputs": [
    {
     "data": {
      "text/html": [
       "<div>\n",
       "<style scoped>\n",
       "    .dataframe tbody tr th:only-of-type {\n",
       "        vertical-align: middle;\n",
       "    }\n",
       "\n",
       "    .dataframe tbody tr th {\n",
       "        vertical-align: top;\n",
       "    }\n",
       "\n",
       "    .dataframe thead th {\n",
       "        text-align: right;\n",
       "    }\n",
       "</style>\n",
       "<table border=\"1\" class=\"dataframe\">\n",
       "  <thead>\n",
       "    <tr style=\"text-align: right;\">\n",
       "      <th></th>\n",
       "      <th>stop_id</th>\n",
       "      <th>stop_name</th>\n",
       "      <th>stop_short_name</th>\n",
       "      <th>stop_lat</th>\n",
       "      <th>stop_lon</th>\n",
       "    </tr>\n",
       "  </thead>\n",
       "  <tbody>\n",
       "    <tr>\n",
       "      <th>0</th>\n",
       "      <td>15351</td>\n",
       "      <td>Sunbury Railway Station</td>\n",
       "      <td>Sunbury</td>\n",
       "      <td>-37.579091</td>\n",
       "      <td>144.727319</td>\n",
       "    </tr>\n",
       "    <tr>\n",
       "      <th>1</th>\n",
       "      <td>15353</td>\n",
       "      <td>Diggers Rest Railway Station</td>\n",
       "      <td>Diggers Rest</td>\n",
       "      <td>-37.627017</td>\n",
       "      <td>144.719922</td>\n",
       "    </tr>\n",
       "    <tr>\n",
       "      <th>2</th>\n",
       "      <td>19827</td>\n",
       "      <td>Stony Point Railway Station</td>\n",
       "      <td>Crib Point</td>\n",
       "      <td>-38.374235</td>\n",
       "      <td>145.221837</td>\n",
       "    </tr>\n",
       "    <tr>\n",
       "      <th>3</th>\n",
       "      <td>19828</td>\n",
       "      <td>Crib Point Railway Station</td>\n",
       "      <td>Crib Point</td>\n",
       "      <td>-38.366123</td>\n",
       "      <td>145.204043</td>\n",
       "    </tr>\n",
       "    <tr>\n",
       "      <th>4</th>\n",
       "      <td>19829</td>\n",
       "      <td>Morradoo Railway Station</td>\n",
       "      <td>Crib Point</td>\n",
       "      <td>-38.354033</td>\n",
       "      <td>145.189602</td>\n",
       "    </tr>\n",
       "    <tr>\n",
       "      <th>...</th>\n",
       "      <td>...</td>\n",
       "      <td>...</td>\n",
       "      <td>...</td>\n",
       "      <td>...</td>\n",
       "      <td>...</td>\n",
       "    </tr>\n",
       "    <tr>\n",
       "      <th>213</th>\n",
       "      <td>44817</td>\n",
       "      <td>Coolaroo Railway Station</td>\n",
       "      <td>Coolaroo</td>\n",
       "      <td>-37.661003</td>\n",
       "      <td>144.926056</td>\n",
       "    </tr>\n",
       "    <tr>\n",
       "      <th>214</th>\n",
       "      <td>45793</td>\n",
       "      <td>Lynbrook Railway Station</td>\n",
       "      <td>Lynbrook</td>\n",
       "      <td>-38.057341</td>\n",
       "      <td>145.249275</td>\n",
       "    </tr>\n",
       "    <tr>\n",
       "      <th>215</th>\n",
       "      <td>45794</td>\n",
       "      <td>Cardinia Road Railway Station</td>\n",
       "      <td>Pakenham</td>\n",
       "      <td>-38.071290</td>\n",
       "      <td>145.437791</td>\n",
       "    </tr>\n",
       "    <tr>\n",
       "      <th>216</th>\n",
       "      <td>45795</td>\n",
       "      <td>South Morang Railway Station</td>\n",
       "      <td>South Morang</td>\n",
       "      <td>-37.649159</td>\n",
       "      <td>145.067032</td>\n",
       "    </tr>\n",
       "    <tr>\n",
       "      <th>217</th>\n",
       "      <td>46468</td>\n",
       "      <td>Williams Landing Railway Station</td>\n",
       "      <td>Williams Landing</td>\n",
       "      <td>-37.869865</td>\n",
       "      <td>144.747445</td>\n",
       "    </tr>\n",
       "  </tbody>\n",
       "</table>\n",
       "<p>218 rows × 5 columns</p>\n",
       "</div>"
      ],
      "text/plain": [
       "     stop_id                         stop_name   stop_short_name   stop_lat  \\\n",
       "0      15351           Sunbury Railway Station           Sunbury -37.579091   \n",
       "1      15353      Diggers Rest Railway Station      Diggers Rest -37.627017   \n",
       "2      19827       Stony Point Railway Station        Crib Point -38.374235   \n",
       "3      19828        Crib Point Railway Station        Crib Point -38.366123   \n",
       "4      19829          Morradoo Railway Station        Crib Point -38.354033   \n",
       "..       ...                               ...               ...        ...   \n",
       "213    44817          Coolaroo Railway Station          Coolaroo -37.661003   \n",
       "214    45793          Lynbrook Railway Station          Lynbrook -38.057341   \n",
       "215    45794     Cardinia Road Railway Station          Pakenham -38.071290   \n",
       "216    45795      South Morang Railway Station      South Morang -37.649159   \n",
       "217    46468  Williams Landing Railway Station  Williams Landing -37.869865   \n",
       "\n",
       "       stop_lon  \n",
       "0    144.727319  \n",
       "1    144.719922  \n",
       "2    145.221837  \n",
       "3    145.204043  \n",
       "4    145.189602  \n",
       "..          ...  \n",
       "213  144.926056  \n",
       "214  145.249275  \n",
       "215  145.437791  \n",
       "216  145.067032  \n",
       "217  144.747445  \n",
       "\n",
       "[218 rows x 5 columns]"
      ]
     },
     "execution_count": 3,
     "metadata": {},
     "output_type": "execute_result"
    }
   ],
   "source": [
    "stops"
   ]
  },
  {
   "cell_type": "code",
   "execution_count": 5,
   "id": "a1725cea",
   "metadata": {},
   "outputs": [],
   "source": [
    "stops['stop_lon'] = stops['stop_lon'].astype(\"float\") # convert str to float\n",
    "stops['stop_lat'] = stops['stop_lat'].astype(\"float\")"
   ]
  },
  {
   "cell_type": "code",
   "execution_count": 6,
   "id": "17afe6b7",
   "metadata": {},
   "outputs": [
    {
     "data": {
      "text/plain": [
       "stop_id              int64\n",
       "stop_name           object\n",
       "stop_short_name     object\n",
       "stop_lat           float64\n",
       "stop_lon           float64\n",
       "dtype: object"
      ]
     },
     "execution_count": 6,
     "metadata": {},
     "output_type": "execute_result"
    }
   ],
   "source": [
    "stops.dtypes"
   ]
  },
  {
   "cell_type": "code",
   "execution_count": 8,
   "id": "fbdfc82a",
   "metadata": {},
   "outputs": [],
   "source": [
    "def distance(lon1, lat1, lon2, lat2):\n",
    "    R = 6378.0 #radius of earth in km\n",
    "    lon1 = radians(lon1)\n",
    "    lat1 = radians(lat1) #convert the latitude to radians\n",
    "     #convert the longitude to radians\n",
    "    lon2 = radians(lon2)\n",
    "    lat2 = radians(lat2) \n",
    "    \n",
    "\n",
    "    dlon = lon2 - lon1  # the difference between two points' longitude's radians\n",
    "    dlat = lat2 - lat1  # the difference betwwen two points' latitude's radians\n",
    "\n",
    "    a = sin(dlat / 2)**2 + cos(lat1) * cos(lat2) * sin(dlon / 2)**2   # Haversine formula\n",
    "    c = 2 * atan2(sqrt(a), sqrt(1 - a))\n",
    "    distance = R * c #round to two decimals\n",
    "    return distance"
   ]
  },
  {
   "cell_type": "code",
   "execution_count": 10,
   "id": "f09fb85f",
   "metadata": {},
   "outputs": [
    {
     "data": {
      "text/plain": [
       "-37.6270165149357"
      ]
     },
     "execution_count": 10,
     "metadata": {},
     "output_type": "execute_result"
    }
   ],
   "source": [
    "stops.stop_lat[1]"
   ]
  },
  {
   "cell_type": "code",
   "execution_count": null,
   "id": "3b6620ff",
   "metadata": {},
   "outputs": [],
   "source": []
  },
  {
   "cell_type": "code",
   "execution_count": null,
   "id": "fd2d01ee",
   "metadata": {},
   "outputs": [],
   "source": []
  },
  {
   "cell_type": "code",
   "execution_count": null,
   "id": "63d54bc3",
   "metadata": {},
   "outputs": [],
   "source": []
  },
  {
   "cell_type": "code",
   "execution_count": null,
   "id": "ed539c4e",
   "metadata": {},
   "outputs": [],
   "source": []
  },
  {
   "cell_type": "code",
   "execution_count": null,
   "id": "f85987cd",
   "metadata": {},
   "outputs": [],
   "source": []
  },
  {
   "cell_type": "code",
   "execution_count": null,
   "id": "41193fc5",
   "metadata": {},
   "outputs": [],
   "source": []
  },
  {
   "cell_type": "code",
   "execution_count": null,
   "id": "1caa0ceb",
   "metadata": {},
   "outputs": [],
   "source": []
  }
 ],
 "metadata": {
  "kernelspec": {
   "display_name": "Python 3 (ipykernel)",
   "language": "python",
   "name": "python3"
  },
  "language_info": {
   "codemirror_mode": {
    "name": "ipython",
    "version": 3
   },
   "file_extension": ".py",
   "mimetype": "text/x-python",
   "name": "python",
   "nbconvert_exporter": "python",
   "pygments_lexer": "ipython3",
   "version": "3.9.7"
  }
 },
 "nbformat": 4,
 "nbformat_minor": 5
}
